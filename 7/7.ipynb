{
 "cells": [
  {
   "cell_type": "raw",
   "id": "eb43b1b6-82c6-422e-9f61-e3f283d6b9f6",
   "metadata": {},
   "source": [
    "Extract Sample document and apply following document preprocessing\n",
    " methods: Tokenization, POS Tagging, stop words removal, Stemming and\n",
    " Lemmatization."
   ]
  },
  {
   "cell_type": "code",
   "execution_count": 33,
   "id": "42a8410d-9416-444d-bbb4-a5a87b1a38ce",
   "metadata": {},
   "outputs": [],
   "source": [
    "import nltk "
   ]
  },
  {
   "cell_type": "code",
   "execution_count": 34,
   "id": "1ba51c85-0f54-44d5-9c28-20321859d985",
   "metadata": {},
   "outputs": [
    {
     "name": "stderr",
     "output_type": "stream",
     "text": [
      "[nltk_data] Downloading package stopwords to\n",
      "[nltk_data]     C:\\Users\\gunsm\\AppData\\Roaming\\nltk_data...\n",
      "[nltk_data]   Package stopwords is already up-to-date!\n"
     ]
    },
    {
     "data": {
      "text/plain": [
       "True"
      ]
     },
     "execution_count": 34,
     "metadata": {},
     "output_type": "execute_result"
    }
   ],
   "source": [
    "nltk.download('stopwords')"
   ]
  },
  {
   "cell_type": "code",
   "execution_count": 35,
   "id": "33308053-0dfe-48e2-8b0d-7367c4c3e959",
   "metadata": {},
   "outputs": [
    {
     "name": "stderr",
     "output_type": "stream",
     "text": [
      "[nltk_data] Downloading package punkt to\n",
      "[nltk_data]     C:\\Users\\gunsm\\AppData\\Roaming\\nltk_data...\n",
      "[nltk_data]   Package punkt is already up-to-date!\n",
      "[nltk_data] Downloading package wordnet to\n",
      "[nltk_data]     C:\\Users\\gunsm\\AppData\\Roaming\\nltk_data...\n",
      "[nltk_data]   Package wordnet is already up-to-date!\n",
      "[nltk_data] Downloading package averaged_perceptron_tagger_eng to\n",
      "[nltk_data]     C:\\Users\\gunsm\\AppData\\Roaming\\nltk_data...\n",
      "[nltk_data]   Package averaged_perceptron_tagger_eng is already up-to-\n",
      "[nltk_data]       date!\n"
     ]
    },
    {
     "data": {
      "text/plain": [
       "True"
      ]
     },
     "execution_count": 35,
     "metadata": {},
     "output_type": "execute_result"
    }
   ],
   "source": [
    "nltk.download('punkt')\n",
    "nltk.download('wordnet')\n",
    "nltk.download('averaged_perceptron_tagger_eng')\n"
   ]
  },
  {
   "cell_type": "code",
   "execution_count": 36,
   "id": "b8c02f63-4587-4f89-9a7d-80103b5bdd82",
   "metadata": {},
   "outputs": [],
   "source": [
    "import nltk"
   ]
  },
  {
   "cell_type": "code",
   "execution_count": 37,
   "id": "1386236d-2b93-4ddd-a68f-fc268e2d322d",
   "metadata": {},
   "outputs": [],
   "source": [
    "para = \"The quick brown fox jumps over the lazy dog near the river bank. Every morning, the animals gather around to drink fresh water. Birds sing cheerfully while deer graze peacefully. Suddenly, a loud noise scares them away. The forest, usually calm, becomes silent. A ranger appears, looking concerned. He observes the tracks and notes something unusual. Maybe it was a predator or just a false alarm. The ecosystem here thrives on balance, and any disturbance is taken seriously. As the sun rises higher, normalcy returns. The animals slowly come back, reassured by the ranger’s watchful presence and the forest’s familiar rhythm.\""
   ]
  },
  {
   "cell_type": "code",
   "execution_count": 38,
   "id": "9471da34-7e78-4e75-b021-d2dd9a7fddee",
   "metadata": {},
   "outputs": [
    {
     "data": {
      "text/plain": [
       "'The quick brown fox jumps over the lazy dog near the river bank. Every morning, the animals gather around to drink fresh water. Birds sing cheerfully while deer graze peacefully. Suddenly, a loud noise scares them away. The forest, usually calm, becomes silent. A ranger appears, looking concerned. He observes the tracks and notes something unusual. Maybe it was a predator or just a false alarm. The ecosystem here thrives on balance, and any disturbance is taken seriously. As the sun rises higher, normalcy returns. The animals slowly come back, reassured by the ranger’s watchful presence and the forest’s familiar rhythm.'"
      ]
     },
     "execution_count": 38,
     "metadata": {},
     "output_type": "execute_result"
    }
   ],
   "source": [
    "para\n"
   ]
  },
  {
   "cell_type": "code",
   "execution_count": 7,
   "id": "d967a3cb-7116-4e73-b506-3619ee7c7679",
   "metadata": {
    "scrolled": true
   },
   "outputs": [
    {
     "data": {
      "text/plain": [
       "['The',\n",
       " 'quick',\n",
       " 'brown',\n",
       " 'fox',\n",
       " 'jumps',\n",
       " 'over',\n",
       " 'the',\n",
       " 'lazy',\n",
       " 'dog',\n",
       " 'near',\n",
       " 'the',\n",
       " 'river',\n",
       " 'bank.',\n",
       " 'Every',\n",
       " 'morning,',\n",
       " 'the',\n",
       " 'animals',\n",
       " 'gather',\n",
       " 'around',\n",
       " 'to',\n",
       " 'drink',\n",
       " 'fresh',\n",
       " 'water.',\n",
       " 'Birds',\n",
       " 'sing',\n",
       " 'cheerfully',\n",
       " 'while',\n",
       " 'deer',\n",
       " 'graze',\n",
       " 'peacefully.',\n",
       " 'Suddenly,',\n",
       " 'a',\n",
       " 'loud',\n",
       " 'noise',\n",
       " 'scares',\n",
       " 'them',\n",
       " 'away.',\n",
       " 'The',\n",
       " 'forest,',\n",
       " 'usually',\n",
       " 'calm,',\n",
       " 'becomes',\n",
       " 'silent.',\n",
       " 'A',\n",
       " 'ranger',\n",
       " 'appears,',\n",
       " 'looking',\n",
       " 'concerned.',\n",
       " 'He',\n",
       " 'observes',\n",
       " 'the',\n",
       " 'tracks',\n",
       " 'and',\n",
       " 'notes',\n",
       " 'something',\n",
       " 'unusual.',\n",
       " 'Maybe',\n",
       " 'it',\n",
       " 'was',\n",
       " 'a',\n",
       " 'predator',\n",
       " 'or',\n",
       " 'just',\n",
       " 'a',\n",
       " 'false',\n",
       " 'alarm.',\n",
       " 'The',\n",
       " 'ecosystem',\n",
       " 'here',\n",
       " 'thrives',\n",
       " 'on',\n",
       " 'balance,',\n",
       " 'and',\n",
       " 'any',\n",
       " 'disturbance',\n",
       " 'is',\n",
       " 'taken',\n",
       " 'seriously.',\n",
       " 'As',\n",
       " 'the',\n",
       " 'sun',\n",
       " 'rises',\n",
       " 'higher,',\n",
       " 'normalcy',\n",
       " 'returns.',\n",
       " 'The',\n",
       " 'animals',\n",
       " 'slowly',\n",
       " 'come',\n",
       " 'back,',\n",
       " 'reassured',\n",
       " 'by',\n",
       " 'the',\n",
       " 'ranger’s',\n",
       " 'watchful',\n",
       " 'presence',\n",
       " 'and',\n",
       " 'the',\n",
       " 'forest’s',\n",
       " 'familiar',\n",
       " 'rhythm.']"
      ]
     },
     "execution_count": 7,
     "metadata": {},
     "output_type": "execute_result"
    }
   ],
   "source": [
    "para.split()"
   ]
  },
  {
   "cell_type": "code",
   "execution_count": 8,
   "id": "bfcca5a8-9567-4290-978d-6e8a0c3aed40",
   "metadata": {},
   "outputs": [],
   "source": [
    "from nltk.tokenize import sent_tokenize"
   ]
  },
  {
   "cell_type": "code",
   "execution_count": 9,
   "id": "0b6e3072-7a8d-4c4c-9043-7bbeee4a0f0d",
   "metadata": {},
   "outputs": [],
   "source": [
    "from nltk.tokenize import word_tokenize"
   ]
  },
  {
   "cell_type": "code",
   "execution_count": 10,
   "id": "5340f1c5-ffd2-4354-9bd0-06739633d2dc",
   "metadata": {},
   "outputs": [
    {
     "name": "stderr",
     "output_type": "stream",
     "text": [
      "[nltk_data] Downloading package punkt_tab to\n",
      "[nltk_data]     C:\\Users\\gunsm\\AppData\\Roaming\\nltk_data...\n",
      "[nltk_data]   Package punkt_tab is already up-to-date!\n"
     ]
    },
    {
     "data": {
      "text/plain": [
       "['The quick brown fox jumps over the lazy dog near the river bank.',\n",
       " 'Every morning, the animals gather around to drink fresh water.',\n",
       " 'Birds sing cheerfully while deer graze peacefully.',\n",
       " 'Suddenly, a loud noise scares them away.',\n",
       " 'The forest, usually calm, becomes silent.',\n",
       " 'A ranger appears, looking concerned.',\n",
       " 'He observes the tracks and notes something unusual.',\n",
       " 'Maybe it was a predator or just a false alarm.',\n",
       " 'The ecosystem here thrives on balance, and any disturbance is taken seriously.',\n",
       " 'As the sun rises higher, normalcy returns.',\n",
       " 'The animals slowly come back, reassured by the ranger’s watchful presence and the forest’s familiar rhythm.']"
      ]
     },
     "execution_count": 10,
     "metadata": {},
     "output_type": "execute_result"
    }
   ],
   "source": [
    "nltk.download('punkt_tab')\n",
    "sent = sent_tokenize(para)\n",
    "sent"
   ]
  },
  {
   "cell_type": "code",
   "execution_count": 11,
   "id": "3f4ee63b-ac61-4713-a78e-6b405c14c9b4",
   "metadata": {},
   "outputs": [],
   "source": [
    "words = word_tokenize(para)"
   ]
  },
  {
   "cell_type": "code",
   "execution_count": 12,
   "id": "b4d5063e-59ac-4f18-b6ba-04e49dc23209",
   "metadata": {
    "scrolled": true
   },
   "outputs": [
    {
     "data": {
      "text/plain": [
       "['The',\n",
       " 'quick',\n",
       " 'brown',\n",
       " 'fox',\n",
       " 'jumps',\n",
       " 'over',\n",
       " 'the',\n",
       " 'lazy',\n",
       " 'dog',\n",
       " 'near',\n",
       " 'the',\n",
       " 'river',\n",
       " 'bank',\n",
       " '.',\n",
       " 'Every',\n",
       " 'morning',\n",
       " ',',\n",
       " 'the',\n",
       " 'animals',\n",
       " 'gather',\n",
       " 'around',\n",
       " 'to',\n",
       " 'drink',\n",
       " 'fresh',\n",
       " 'water',\n",
       " '.',\n",
       " 'Birds',\n",
       " 'sing',\n",
       " 'cheerfully',\n",
       " 'while',\n",
       " 'deer',\n",
       " 'graze',\n",
       " 'peacefully',\n",
       " '.',\n",
       " 'Suddenly',\n",
       " ',',\n",
       " 'a',\n",
       " 'loud',\n",
       " 'noise',\n",
       " 'scares',\n",
       " 'them',\n",
       " 'away',\n",
       " '.',\n",
       " 'The',\n",
       " 'forest',\n",
       " ',',\n",
       " 'usually',\n",
       " 'calm',\n",
       " ',',\n",
       " 'becomes',\n",
       " 'silent',\n",
       " '.',\n",
       " 'A',\n",
       " 'ranger',\n",
       " 'appears',\n",
       " ',',\n",
       " 'looking',\n",
       " 'concerned',\n",
       " '.',\n",
       " 'He',\n",
       " 'observes',\n",
       " 'the',\n",
       " 'tracks',\n",
       " 'and',\n",
       " 'notes',\n",
       " 'something',\n",
       " 'unusual',\n",
       " '.',\n",
       " 'Maybe',\n",
       " 'it',\n",
       " 'was',\n",
       " 'a',\n",
       " 'predator',\n",
       " 'or',\n",
       " 'just',\n",
       " 'a',\n",
       " 'false',\n",
       " 'alarm',\n",
       " '.',\n",
       " 'The',\n",
       " 'ecosystem',\n",
       " 'here',\n",
       " 'thrives',\n",
       " 'on',\n",
       " 'balance',\n",
       " ',',\n",
       " 'and',\n",
       " 'any',\n",
       " 'disturbance',\n",
       " 'is',\n",
       " 'taken',\n",
       " 'seriously',\n",
       " '.',\n",
       " 'As',\n",
       " 'the',\n",
       " 'sun',\n",
       " 'rises',\n",
       " 'higher',\n",
       " ',',\n",
       " 'normalcy',\n",
       " 'returns',\n",
       " '.',\n",
       " 'The',\n",
       " 'animals',\n",
       " 'slowly',\n",
       " 'come',\n",
       " 'back',\n",
       " ',',\n",
       " 'reassured',\n",
       " 'by',\n",
       " 'the',\n",
       " 'ranger',\n",
       " '’',\n",
       " 's',\n",
       " 'watchful',\n",
       " 'presence',\n",
       " 'and',\n",
       " 'the',\n",
       " 'forest',\n",
       " '’',\n",
       " 's',\n",
       " 'familiar',\n",
       " 'rhythm',\n",
       " '.']"
      ]
     },
     "execution_count": 12,
     "metadata": {},
     "output_type": "execute_result"
    }
   ],
   "source": [
    "words"
   ]
  },
  {
   "cell_type": "code",
   "execution_count": 13,
   "id": "9f73acce-8dbe-4ede-9303-ea2afba5acc3",
   "metadata": {},
   "outputs": [],
   "source": [
    "from nltk.corpus import stopwords"
   ]
  },
  {
   "cell_type": "code",
   "execution_count": 14,
   "id": "64d5039f-74d9-48b1-ac74-6d3377ee5123",
   "metadata": {},
   "outputs": [],
   "source": [
    "swords = stopwords.words('english')"
   ]
  },
  {
   "cell_type": "code",
   "execution_count": 15,
   "id": "a2c76d84-d577-4871-88ee-cacdce6e67b7",
   "metadata": {
    "scrolled": true
   },
   "outputs": [
    {
     "data": {
      "text/plain": [
       "['a',\n",
       " 'about',\n",
       " 'above',\n",
       " 'after',\n",
       " 'again',\n",
       " 'against',\n",
       " 'ain',\n",
       " 'all',\n",
       " 'am',\n",
       " 'an',\n",
       " 'and',\n",
       " 'any',\n",
       " 'are',\n",
       " 'aren',\n",
       " \"aren't\",\n",
       " 'as',\n",
       " 'at',\n",
       " 'be',\n",
       " 'because',\n",
       " 'been',\n",
       " 'before',\n",
       " 'being',\n",
       " 'below',\n",
       " 'between',\n",
       " 'both',\n",
       " 'but',\n",
       " 'by',\n",
       " 'can',\n",
       " 'couldn',\n",
       " \"couldn't\",\n",
       " 'd',\n",
       " 'did',\n",
       " 'didn',\n",
       " \"didn't\",\n",
       " 'do',\n",
       " 'does',\n",
       " 'doesn',\n",
       " \"doesn't\",\n",
       " 'doing',\n",
       " 'don',\n",
       " \"don't\",\n",
       " 'down',\n",
       " 'during',\n",
       " 'each',\n",
       " 'few',\n",
       " 'for',\n",
       " 'from',\n",
       " 'further',\n",
       " 'had',\n",
       " 'hadn',\n",
       " \"hadn't\",\n",
       " 'has',\n",
       " 'hasn',\n",
       " \"hasn't\",\n",
       " 'have',\n",
       " 'haven',\n",
       " \"haven't\",\n",
       " 'having',\n",
       " 'he',\n",
       " \"he'd\",\n",
       " \"he'll\",\n",
       " 'her',\n",
       " 'here',\n",
       " 'hers',\n",
       " 'herself',\n",
       " \"he's\",\n",
       " 'him',\n",
       " 'himself',\n",
       " 'his',\n",
       " 'how',\n",
       " 'i',\n",
       " \"i'd\",\n",
       " 'if',\n",
       " \"i'll\",\n",
       " \"i'm\",\n",
       " 'in',\n",
       " 'into',\n",
       " 'is',\n",
       " 'isn',\n",
       " \"isn't\",\n",
       " 'it',\n",
       " \"it'd\",\n",
       " \"it'll\",\n",
       " \"it's\",\n",
       " 'its',\n",
       " 'itself',\n",
       " \"i've\",\n",
       " 'just',\n",
       " 'll',\n",
       " 'm',\n",
       " 'ma',\n",
       " 'me',\n",
       " 'mightn',\n",
       " \"mightn't\",\n",
       " 'more',\n",
       " 'most',\n",
       " 'mustn',\n",
       " \"mustn't\",\n",
       " 'my',\n",
       " 'myself',\n",
       " 'needn',\n",
       " \"needn't\",\n",
       " 'no',\n",
       " 'nor',\n",
       " 'not',\n",
       " 'now',\n",
       " 'o',\n",
       " 'of',\n",
       " 'off',\n",
       " 'on',\n",
       " 'once',\n",
       " 'only',\n",
       " 'or',\n",
       " 'other',\n",
       " 'our',\n",
       " 'ours',\n",
       " 'ourselves',\n",
       " 'out',\n",
       " 'over',\n",
       " 'own',\n",
       " 're',\n",
       " 's',\n",
       " 'same',\n",
       " 'shan',\n",
       " \"shan't\",\n",
       " 'she',\n",
       " \"she'd\",\n",
       " \"she'll\",\n",
       " \"she's\",\n",
       " 'should',\n",
       " 'shouldn',\n",
       " \"shouldn't\",\n",
       " \"should've\",\n",
       " 'so',\n",
       " 'some',\n",
       " 'such',\n",
       " 't',\n",
       " 'than',\n",
       " 'that',\n",
       " \"that'll\",\n",
       " 'the',\n",
       " 'their',\n",
       " 'theirs',\n",
       " 'them',\n",
       " 'themselves',\n",
       " 'then',\n",
       " 'there',\n",
       " 'these',\n",
       " 'they',\n",
       " \"they'd\",\n",
       " \"they'll\",\n",
       " \"they're\",\n",
       " \"they've\",\n",
       " 'this',\n",
       " 'those',\n",
       " 'through',\n",
       " 'to',\n",
       " 'too',\n",
       " 'under',\n",
       " 'until',\n",
       " 'up',\n",
       " 've',\n",
       " 'very',\n",
       " 'was',\n",
       " 'wasn',\n",
       " \"wasn't\",\n",
       " 'we',\n",
       " \"we'd\",\n",
       " \"we'll\",\n",
       " \"we're\",\n",
       " 'were',\n",
       " 'weren',\n",
       " \"weren't\",\n",
       " \"we've\",\n",
       " 'what',\n",
       " 'when',\n",
       " 'where',\n",
       " 'which',\n",
       " 'while',\n",
       " 'who',\n",
       " 'whom',\n",
       " 'why',\n",
       " 'will',\n",
       " 'with',\n",
       " 'won',\n",
       " \"won't\",\n",
       " 'wouldn',\n",
       " \"wouldn't\",\n",
       " 'y',\n",
       " 'you',\n",
       " \"you'd\",\n",
       " \"you'll\",\n",
       " 'your',\n",
       " \"you're\",\n",
       " 'yours',\n",
       " 'yourself',\n",
       " 'yourselves',\n",
       " \"you've\"]"
      ]
     },
     "execution_count": 15,
     "metadata": {},
     "output_type": "execute_result"
    }
   ],
   "source": [
    "swords"
   ]
  },
  {
   "cell_type": "code",
   "execution_count": 16,
   "id": "aae65d22-1193-429c-9a95-a59af3e9c760",
   "metadata": {},
   "outputs": [
    {
     "name": "stdout",
     "output_type": "stream",
     "text": [
      "\t\t\t\tafter removing stop words:\n",
      "\n",
      "\n",
      "\n",
      " ['The', 'quick', 'brown', 'fox', 'jumps', 'lazy', 'dog', 'near', 'river', 'bank', '.', 'Every', 'morning', ',', 'animals', 'gather', 'around', 'drink', 'fresh', 'water', '.', 'Birds', 'sing', 'cheerfully', 'deer', 'graze', 'peacefully', '.', 'Suddenly', ',', 'loud', 'noise', 'scares', 'away', '.', 'The', 'forest', ',', 'usually', 'calm', ',', 'becomes', 'silent', '.', 'A', 'ranger', 'appears', ',', 'looking', 'concerned', '.', 'He', 'observes', 'tracks', 'notes', 'something', 'unusual', '.', 'Maybe', 'predator', 'false', 'alarm', '.', 'The', 'ecosystem', 'thrives', 'balance', ',', 'disturbance', 'taken', 'seriously', '.', 'As', 'sun', 'rises', 'higher', ',', 'normalcy', 'returns', '.', 'The', 'animals', 'slowly', 'come', 'back', ',', 'reassured', 'ranger', '’', 'watchful', 'presence', 'forest', '’', 'familiar', 'rhythm', '.']\n"
     ]
    }
   ],
   "source": [
    "x = [words for words in words if words not in swords]\n",
    "print('\\t\\t\\t\\tafter removing stop words:\\n\\n\\n\\n',x)"
   ]
  },
  {
   "cell_type": "code",
   "execution_count": 17,
   "id": "ed0d6aa9-4284-425c-88da-693871dc49e6",
   "metadata": {},
   "outputs": [],
   "source": [
    "from nltk.stem  import PorterStemmer"
   ]
  },
  {
   "cell_type": "code",
   "execution_count": 18,
   "id": "df43e77c-1fd3-4a9a-a605-14cb82e53956",
   "metadata": {},
   "outputs": [
    {
     "data": {
      "text/plain": [
       "'work'"
      ]
     },
     "execution_count": 18,
     "metadata": {},
     "output_type": "execute_result"
    }
   ],
   "source": [
    "ps= PorterStemmer()\n",
    "ps.stem('working')"
   ]
  },
  {
   "cell_type": "code",
   "execution_count": 19,
   "id": "d3f7f1b4-adee-4a71-9b05-43396505be5c",
   "metadata": {},
   "outputs": [],
   "source": [
    "y=[ps.stem(word) for word in x]"
   ]
  },
  {
   "cell_type": "code",
   "execution_count": 20,
   "id": "352e3b6a-8f9f-4be8-a2c5-f491bcff7b05",
   "metadata": {
    "scrolled": true
   },
   "outputs": [
    {
     "data": {
      "text/plain": [
       "['the',\n",
       " 'quick',\n",
       " 'brown',\n",
       " 'fox',\n",
       " 'jump',\n",
       " 'lazi',\n",
       " 'dog',\n",
       " 'near',\n",
       " 'river',\n",
       " 'bank',\n",
       " '.',\n",
       " 'everi',\n",
       " 'morn',\n",
       " ',',\n",
       " 'anim',\n",
       " 'gather',\n",
       " 'around',\n",
       " 'drink',\n",
       " 'fresh',\n",
       " 'water',\n",
       " '.',\n",
       " 'bird',\n",
       " 'sing',\n",
       " 'cheer',\n",
       " 'deer',\n",
       " 'graze',\n",
       " 'peac',\n",
       " '.',\n",
       " 'suddenli',\n",
       " ',',\n",
       " 'loud',\n",
       " 'nois',\n",
       " 'scare',\n",
       " 'away',\n",
       " '.',\n",
       " 'the',\n",
       " 'forest',\n",
       " ',',\n",
       " 'usual',\n",
       " 'calm',\n",
       " ',',\n",
       " 'becom',\n",
       " 'silent',\n",
       " '.',\n",
       " 'a',\n",
       " 'ranger',\n",
       " 'appear',\n",
       " ',',\n",
       " 'look',\n",
       " 'concern',\n",
       " '.',\n",
       " 'he',\n",
       " 'observ',\n",
       " 'track',\n",
       " 'note',\n",
       " 'someth',\n",
       " 'unusu',\n",
       " '.',\n",
       " 'mayb',\n",
       " 'predat',\n",
       " 'fals',\n",
       " 'alarm',\n",
       " '.',\n",
       " 'the',\n",
       " 'ecosystem',\n",
       " 'thrive',\n",
       " 'balanc',\n",
       " ',',\n",
       " 'disturb',\n",
       " 'taken',\n",
       " 'serious',\n",
       " '.',\n",
       " 'as',\n",
       " 'sun',\n",
       " 'rise',\n",
       " 'higher',\n",
       " ',',\n",
       " 'normalci',\n",
       " 'return',\n",
       " '.',\n",
       " 'the',\n",
       " 'anim',\n",
       " 'slowli',\n",
       " 'come',\n",
       " 'back',\n",
       " ',',\n",
       " 'reassur',\n",
       " 'ranger',\n",
       " '’',\n",
       " 'watch',\n",
       " 'presenc',\n",
       " 'forest',\n",
       " '’',\n",
       " 'familiar',\n",
       " 'rhythm',\n",
       " '.']"
      ]
     },
     "execution_count": 20,
     "metadata": {},
     "output_type": "execute_result"
    }
   ],
   "source": [
    "y"
   ]
  },
  {
   "cell_type": "code",
   "execution_count": 21,
   "id": "d6e1030a-8a38-4859-a63d-c02a6ccec205",
   "metadata": {},
   "outputs": [],
   "source": [
    "from nltk.stem import WordNetLemmatizer"
   ]
  },
  {
   "cell_type": "code",
   "execution_count": 22,
   "id": "96f60700-0329-4e24-8285-cc45de40f352",
   "metadata": {},
   "outputs": [],
   "source": [
    "wnl = WordNetLemmatizer()"
   ]
  },
  {
   "cell_type": "code",
   "execution_count": 23,
   "id": "94bd1035-66c8-44c3-b519-38c6e60d52b2",
   "metadata": {},
   "outputs": [
    {
     "data": {
      "text/plain": [
       "'go'"
      ]
     },
     "execution_count": 23,
     "metadata": {},
     "output_type": "execute_result"
    }
   ],
   "source": [
    "wnl.lemmatize('went',pos ='v')"
   ]
  },
  {
   "cell_type": "code",
   "execution_count": 24,
   "id": "5bfe76f3-25b1-4ec9-aaa3-38618577b860",
   "metadata": {},
   "outputs": [],
   "source": [
    "z = [wnl.lemmatize(word,pos='v')for word in x] "
   ]
  },
  {
   "cell_type": "code",
   "execution_count": 25,
   "id": "2be24ad7-5848-4106-84ce-1f51351307e6",
   "metadata": {
    "scrolled": true
   },
   "outputs": [
    {
     "data": {
      "text/plain": [
       "['The',\n",
       " 'quick',\n",
       " 'brown',\n",
       " 'fox',\n",
       " 'jump',\n",
       " 'lazy',\n",
       " 'dog',\n",
       " 'near',\n",
       " 'river',\n",
       " 'bank',\n",
       " '.',\n",
       " 'Every',\n",
       " 'morning',\n",
       " ',',\n",
       " 'animals',\n",
       " 'gather',\n",
       " 'around',\n",
       " 'drink',\n",
       " 'fresh',\n",
       " 'water',\n",
       " '.',\n",
       " 'Birds',\n",
       " 'sing',\n",
       " 'cheerfully',\n",
       " 'deer',\n",
       " 'graze',\n",
       " 'peacefully',\n",
       " '.',\n",
       " 'Suddenly',\n",
       " ',',\n",
       " 'loud',\n",
       " 'noise',\n",
       " 'scar',\n",
       " 'away',\n",
       " '.',\n",
       " 'The',\n",
       " 'forest',\n",
       " ',',\n",
       " 'usually',\n",
       " 'calm',\n",
       " ',',\n",
       " 'become',\n",
       " 'silent',\n",
       " '.',\n",
       " 'A',\n",
       " 'ranger',\n",
       " 'appear',\n",
       " ',',\n",
       " 'look',\n",
       " 'concern',\n",
       " '.',\n",
       " 'He',\n",
       " 'observe',\n",
       " 'track',\n",
       " 'note',\n",
       " 'something',\n",
       " 'unusual',\n",
       " '.',\n",
       " 'Maybe',\n",
       " 'predator',\n",
       " 'false',\n",
       " 'alarm',\n",
       " '.',\n",
       " 'The',\n",
       " 'ecosystem',\n",
       " 'thrive',\n",
       " 'balance',\n",
       " ',',\n",
       " 'disturbance',\n",
       " 'take',\n",
       " 'seriously',\n",
       " '.',\n",
       " 'As',\n",
       " 'sun',\n",
       " 'rise',\n",
       " 'higher',\n",
       " ',',\n",
       " 'normalcy',\n",
       " 'return',\n",
       " '.',\n",
       " 'The',\n",
       " 'animals',\n",
       " 'slowly',\n",
       " 'come',\n",
       " 'back',\n",
       " ',',\n",
       " 'reassure',\n",
       " 'ranger',\n",
       " '’',\n",
       " 'watchful',\n",
       " 'presence',\n",
       " 'forest',\n",
       " '’',\n",
       " 'familiar',\n",
       " 'rhythm',\n",
       " '.']"
      ]
     },
     "execution_count": 25,
     "metadata": {},
     "output_type": "execute_result"
    }
   ],
   "source": [
    "z"
   ]
  },
  {
   "cell_type": "code",
   "execution_count": 26,
   "id": "4a2c3790-06e2-42d8-b0a1-aabf4f03f28e",
   "metadata": {},
   "outputs": [],
   "source": [
    "import string"
   ]
  },
  {
   "cell_type": "code",
   "execution_count": 27,
   "id": "785d3450-bdb0-4afa-9b7d-92ebda4c056a",
   "metadata": {},
   "outputs": [
    {
     "data": {
      "text/plain": [
       "'!\"#$%&\\'()*+,-./:;<=>?@[\\\\]^_`{|}~'"
      ]
     },
     "execution_count": 27,
     "metadata": {},
     "output_type": "execute_result"
    }
   ],
   "source": [
    "string.punctuation"
   ]
  },
  {
   "cell_type": "code",
   "execution_count": 28,
   "id": "c749dfa7-c5a3-4233-840b-7f67a28b792c",
   "metadata": {
    "scrolled": true
   },
   "outputs": [
    {
     "data": {
      "text/plain": [
       "['The',\n",
       " 'quick',\n",
       " 'brown',\n",
       " 'fox',\n",
       " 'jump',\n",
       " 'lazy',\n",
       " 'dog',\n",
       " 'near',\n",
       " 'river',\n",
       " 'bank',\n",
       " 'Every',\n",
       " 'morning',\n",
       " 'animals',\n",
       " 'gather',\n",
       " 'around',\n",
       " 'drink',\n",
       " 'fresh',\n",
       " 'water',\n",
       " 'Birds',\n",
       " 'sing',\n",
       " 'cheerfully',\n",
       " 'deer',\n",
       " 'graze',\n",
       " 'peacefully',\n",
       " 'Suddenly',\n",
       " 'loud',\n",
       " 'noise',\n",
       " 'scar',\n",
       " 'away',\n",
       " 'The',\n",
       " 'forest',\n",
       " 'usually',\n",
       " 'calm',\n",
       " 'become',\n",
       " 'silent',\n",
       " 'A',\n",
       " 'ranger',\n",
       " 'appear',\n",
       " 'look',\n",
       " 'concern',\n",
       " 'He',\n",
       " 'observe',\n",
       " 'track',\n",
       " 'note',\n",
       " 'something',\n",
       " 'unusual',\n",
       " 'Maybe',\n",
       " 'predator',\n",
       " 'false',\n",
       " 'alarm',\n",
       " 'The',\n",
       " 'ecosystem',\n",
       " 'thrive',\n",
       " 'balance',\n",
       " 'disturbance',\n",
       " 'take',\n",
       " 'seriously',\n",
       " 'As',\n",
       " 'sun',\n",
       " 'rise',\n",
       " 'higher',\n",
       " 'normalcy',\n",
       " 'return',\n",
       " 'The',\n",
       " 'animals',\n",
       " 'slowly',\n",
       " 'come',\n",
       " 'back',\n",
       " 'reassure',\n",
       " 'ranger',\n",
       " '’',\n",
       " 'watchful',\n",
       " 'presence',\n",
       " 'forest',\n",
       " '’',\n",
       " 'familiar',\n",
       " 'rhythm']"
      ]
     },
     "execution_count": 28,
     "metadata": {},
     "output_type": "execute_result"
    }
   ],
   "source": [
    "t = [word for word in z if word not in string.punctuation]\n",
    "t"
   ]
  },
  {
   "cell_type": "code",
   "execution_count": 29,
   "id": "2416d6ed-8ac3-42a1-8ceb-4292b0a31d2a",
   "metadata": {
    "scrolled": true
   },
   "outputs": [
    {
     "name": "stderr",
     "output_type": "stream",
     "text": [
      "[nltk_data] Downloading package averaged_perceptron_tagger_eng to\n",
      "[nltk_data]     C:\\Users\\gunsm\\AppData\\Roaming\\nltk_data...\n",
      "[nltk_data]   Package averaged_perceptron_tagger_eng is already up-to-\n",
      "[nltk_data]       date!\n"
     ]
    },
    {
     "data": {
      "text/plain": [
       "[('The', 'DT'),\n",
       " ('quick', 'JJ'),\n",
       " ('brown', 'NN'),\n",
       " ('fox', 'JJ'),\n",
       " ('jump', 'NN'),\n",
       " ('lazy', 'NN'),\n",
       " ('dog', 'NN'),\n",
       " ('near', 'IN'),\n",
       " ('river', 'NN'),\n",
       " ('bank', 'NN'),\n",
       " ('Every', 'NNP'),\n",
       " ('morning', 'NN'),\n",
       " ('animals', 'NNS'),\n",
       " ('gather', 'VBP'),\n",
       " ('around', 'IN'),\n",
       " ('drink', 'NN'),\n",
       " ('fresh', 'JJ'),\n",
       " ('water', 'NN'),\n",
       " ('Birds', 'NNP'),\n",
       " ('sing', 'VBG'),\n",
       " ('cheerfully', 'RB'),\n",
       " ('deer', 'VB'),\n",
       " ('graze', 'NN'),\n",
       " ('peacefully', 'RB'),\n",
       " ('Suddenly', 'RB'),\n",
       " ('loud', 'JJ'),\n",
       " ('noise', 'NN'),\n",
       " ('scar', 'NN'),\n",
       " ('away', 'RB'),\n",
       " ('The', 'DT'),\n",
       " ('forest', 'JJS'),\n",
       " ('usually', 'RB'),\n",
       " ('calm', 'JJ'),\n",
       " ('become', 'VB'),\n",
       " ('silent', 'JJ'),\n",
       " ('A', 'NNP'),\n",
       " ('ranger', 'NN'),\n",
       " ('appear', 'NN'),\n",
       " ('look', 'NN'),\n",
       " ('concern', 'NN'),\n",
       " ('He', 'PRP'),\n",
       " ('observe', 'VBZ'),\n",
       " ('track', 'RP'),\n",
       " ('note', 'NN'),\n",
       " ('something', 'NN'),\n",
       " ('unusual', 'JJ'),\n",
       " ('Maybe', 'NNP'),\n",
       " ('predator', 'NN'),\n",
       " ('false', 'JJ'),\n",
       " ('alarm', 'NN'),\n",
       " ('The', 'DT'),\n",
       " ('ecosystem', 'NN'),\n",
       " ('thrive', 'JJ'),\n",
       " ('balance', 'NN'),\n",
       " ('disturbance', 'NN'),\n",
       " ('take', 'VB'),\n",
       " ('seriously', 'RB'),\n",
       " ('As', 'IN'),\n",
       " ('sun', 'NN'),\n",
       " ('rise', 'NN'),\n",
       " ('higher', 'RBR'),\n",
       " ('normalcy', 'JJ'),\n",
       " ('return', 'VBP'),\n",
       " ('The', 'DT'),\n",
       " ('animals', 'NNS'),\n",
       " ('slowly', 'RB'),\n",
       " ('come', 'VBP'),\n",
       " ('back', 'RB'),\n",
       " ('reassure', 'NN'),\n",
       " ('ranger', 'NN'),\n",
       " ('’', 'NNP'),\n",
       " ('watchful', 'JJ'),\n",
       " ('presence', 'NN'),\n",
       " ('forest', 'JJS'),\n",
       " ('’', 'NN'),\n",
       " ('familiar', 'JJ'),\n",
       " ('rhythm', 'NN')]"
      ]
     },
     "execution_count": 29,
     "metadata": {},
     "output_type": "execute_result"
    }
   ],
   "source": [
    "nltk.download('averaged_perceptron_tagger_eng')\n",
    "from nltk import pos_tag\n",
    "w = pos_tag(t)\n",
    "w"
   ]
  },
  {
   "cell_type": "code",
   "execution_count": 30,
   "id": "4b6d3f86-ad92-454f-a50d-5eabcb8606f1",
   "metadata": {},
   "outputs": [],
   "source": [
    "from sklearn.feature_extraction.text import TfidfVectorizer"
   ]
  },
  {
   "cell_type": "code",
   "execution_count": 31,
   "id": "266ea92d-e0eb-4ade-a820-f1e416d75bbc",
   "metadata": {},
   "outputs": [
    {
     "data": {
      "text/plain": [
       "(77, 68)"
      ]
     },
     "execution_count": 31,
     "metadata": {},
     "output_type": "execute_result"
    }
   ],
   "source": [
    "tfidf = TfidfVectorizer()\n",
    "v = tfidf.fit_transform(t)\n",
    "v.shape\n"
   ]
  },
  {
   "cell_type": "code",
   "execution_count": 32,
   "id": "fd1bebb0-595f-4fdb-a612-0479369eed93",
   "metadata": {
    "scrolled": true
   },
   "outputs": [
    {
     "name": "stdout",
     "output_type": "stream",
     "text": [
      "                                                    0\n",
      "0   <Compressed Sparse Row sparse matrix of dtype ...\n",
      "1   <Compressed Sparse Row sparse matrix of dtype ...\n",
      "2   <Compressed Sparse Row sparse matrix of dtype ...\n",
      "3   <Compressed Sparse Row sparse matrix of dtype ...\n",
      "4   <Compressed Sparse Row sparse matrix of dtype ...\n",
      "..                                                ...\n",
      "72  <Compressed Sparse Row sparse matrix of dtype ...\n",
      "73  <Compressed Sparse Row sparse matrix of dtype ...\n",
      "74  <Compressed Sparse Row sparse matrix of dtype ...\n",
      "75  <Compressed Sparse Row sparse matrix of dtype ...\n",
      "76  <Compressed Sparse Row sparse matrix of dtype ...\n",
      "\n",
      "[77 rows x 1 columns]\n",
      "<class 'pandas.core.frame.DataFrame'>\n",
      "RangeIndex: 77 entries, 0 to 76\n",
      "Data columns (total 1 columns):\n",
      " #   Column  Non-Null Count  Dtype \n",
      "---  ------  --------------  ----- \n",
      " 0   0       77 non-null     object\n",
      "dtypes: object(1)\n",
      "memory usage: 748.0+ bytes\n"
     ]
    }
   ],
   "source": [
    "import pandas as pd\n",
    "\n",
    "print(pd.DataFrame(v))\n",
    "pd.DataFrame(v).info()"
   ]
  },
  {
   "cell_type": "code",
   "execution_count": null,
   "id": "4f96dfd1-b670-460d-8069-2eda4a1340fd",
   "metadata": {},
   "outputs": [],
   "source": []
  },
  {
   "cell_type": "code",
   "execution_count": null,
   "id": "f701fac7-bbf0-4e04-9676-299950e51e8a",
   "metadata": {},
   "outputs": [],
   "source": []
  },
  {
   "cell_type": "code",
   "execution_count": null,
   "id": "04a91c1a-6690-462e-be31-fdf80ac55a37",
   "metadata": {},
   "outputs": [],
   "source": []
  }
 ],
 "metadata": {
  "kernelspec": {
   "display_name": "Python 3 (ipykernel)",
   "language": "python",
   "name": "python3"
  },
  "language_info": {
   "codemirror_mode": {
    "name": "ipython",
    "version": 3
   },
   "file_extension": ".py",
   "mimetype": "text/x-python",
   "name": "python",
   "nbconvert_exporter": "python",
   "pygments_lexer": "ipython3",
   "version": "3.13.3"
  }
 },
 "nbformat": 4,
 "nbformat_minor": 5
}
